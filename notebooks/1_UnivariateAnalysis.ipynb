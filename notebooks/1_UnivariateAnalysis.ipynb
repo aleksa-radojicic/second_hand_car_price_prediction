{
 "cells": [
  {
   "cell_type": "code",
   "execution_count": 1,
   "metadata": {},
   "outputs": [],
   "source": [
    "import numpy as np\n",
    "import pandas as pd\n",
    "from sklearn.model_selection import train_test_split\n",
    "\n",
    "import src.config as config\n",
    "import src.data_analysis.utils as da_utils\n",
    "from src.db.broker import DbBroker\n",
    "from src.utils import initialize_features_info\n",
    "\n",
    "%load_ext autoreload\n",
    "%autoreload 2"
   ]
  },
  {
   "cell_type": "code",
   "execution_count": 2,
   "metadata": {
    "tags": [
     "refactor"
    ]
   },
   "outputs": [],
   "source": [
    "db_broker = DbBroker()\n",
    "df = pd.read_sql(\n",
    "    db_broker.get_all_listings_statement(),\n",
    "    db_broker.engine,\n",
    "    dtype_backend=config.DTYPE_BACKEND,\n",
    "    index_col=config.INDEX,\n",
    ")\n",
    "db_broker.engine.dispose()\n",
    "\n",
    "features_info = initialize_features_info()"
   ]
  },
  {
   "cell_type": "code",
   "execution_count": 3,
   "metadata": {},
   "outputs": [
    {
     "name": "stdout",
     "output_type": "stream",
     "text": [
      "Duplicate rows: 0\n",
      "--------------------\n",
      "<class 'pandas.core.frame.DataFrame'>\n",
      "Index: 30788 entries, 9249043 to 23246511\n",
      "Data columns (total 50 columns):\n",
      " #   Column                    Non-Null Count  Dtype \n",
      "---  ------                    --------------  ----- \n",
      " 0   name                      30788 non-null  string\n",
      " 1   short_url                 30788 non-null  string\n",
      " 2   price                     30788 non-null  string\n",
      " 3   listing_followers_no      30788 non-null  string\n",
      " 4   location                  30788 non-null  string\n",
      " 5   images_no                 30788 non-null  string\n",
      " 6   safety                    30788 non-null  string\n",
      " 7   equipment                 30788 non-null  string\n",
      " 8   other                     30788 non-null  string\n",
      " 9   description               30788 non-null  string\n",
      " 10  id_1                      30788 non-null  Int64 \n",
      " 11  condition                 30788 non-null  string\n",
      " 12  brand                     30788 non-null  string\n",
      " 13  model                     30788 non-null  string\n",
      " 14  production_year           30788 non-null  string\n",
      " 15  kilometerage              30788 non-null  string\n",
      " 16  body_type                 30788 non-null  string\n",
      " 17  fuel_type                 30788 non-null  string\n",
      " 18  engine_capacity           30607 non-null  string\n",
      " 19  engine_power              30788 non-null  string\n",
      " 20  fixed_price               0 non-null      string\n",
      " 21  trade_in                  30788 non-null  string\n",
      " 22  certified                 1692 non-null   string\n",
      " 23  battery_capacity          181 non-null    string\n",
      " 24  id_2                      30788 non-null  Int64 \n",
      " 25  floating_flywheel         9664 non-null   string\n",
      " 26  engine_emission_class     30781 non-null  string\n",
      " 27  propulsion                30788 non-null  string\n",
      " 28  gearbox_type              30787 non-null  string\n",
      " 29  doors_no                  30786 non-null  string\n",
      " 30  seats_no                  30788 non-null  string\n",
      " 31  steering_wheel_side       30788 non-null  string\n",
      " 32  air_conditioning          30788 non-null  string\n",
      " 33  color                     30788 non-null  string\n",
      " 34  interior_material         26649 non-null  string\n",
      " 35  interior_color            25487 non-null  string\n",
      " 36  registered_until          30785 non-null  string\n",
      " 37  vehicle_origin            30786 non-null  string\n",
      " 38  ownership                 18458 non-null  string\n",
      " 39  damage                    30783 non-null  string\n",
      " 40  import_country            7739 non-null   string\n",
      " 41  sales_method              3101 non-null   string\n",
      " 42  credit                    2065 non-null   string\n",
      " 43  deposit                   558 non-null    string\n",
      " 44  installment_no            718 non-null    string\n",
      " 45  installment_amount        693 non-null    string\n",
      " 46  interest_free_credit      187 non-null    string\n",
      " 47  leasing                   977 non-null    string\n",
      " 48  cash_payment              332 non-null    string\n",
      " 49  range_on_full_battery_km  149 non-null    string\n",
      "dtypes: Int64(2), string(48)\n",
      "memory usage: 12.1 MB\n"
     ]
    }
   ],
   "source": [
    "print(f\"Duplicate rows: {df.duplicated().sum()}\")\n",
    "print(20 * \"-\")\n",
    "df.info()"
   ]
  },
  {
   "cell_type": "code",
   "execution_count": 4,
   "metadata": {
    "tags": [
     "refactor"
    ]
   },
   "outputs": [],
   "source": [
    "# Prefix columns from table general_informations with \"gi_\" \n",
    "# and additional_informations with \"ai\"\n",
    "id_1_col_idx = df.columns.get_loc(\"id_1\")\n",
    "id_2_col_idx = df.columns.get_loc(\"id_2\")\n",
    "\n",
    "columns_from_gi = df.columns[id_1_col_idx + 1 : id_2_col_idx].values\n",
    "columns_from_ai = df.columns[id_2_col_idx + 1 :].values\n",
    "\n",
    "df.rename(columns=dict(zip(columns_from_gi,  \"gi_\"+ columns_from_gi)), inplace=True)\n",
    "df.rename(columns=dict(zip(columns_from_ai,  \"ai_\"+ columns_from_ai)), inplace=True)\n",
    "\n",
    "del id_1_col_idx, id_2_col_idx, columns_from_gi, columns_from_ai\n",
    "\n",
    "# Removing redundant ids\n",
    "del df[\"id_1\"], df[\"id_2\"]\n",
    "\n",
    "# Removing gi_fixed_price that is poorly scraped\n",
    "del df[\"gi_fixed_price\"]"
   ]
  },
  {
   "cell_type": "code",
   "execution_count": 5,
   "metadata": {
    "tags": [
     "refactor"
    ]
   },
   "outputs": [],
   "source": [
    "df_train, df_test = train_test_split(df, test_size=config.TEST_SIZE, random_state=config.RANDOM_SEED)\n",
    "\n",
    "idx_to_remove = []"
   ]
  },
  {
   "cell_type": "code",
   "execution_count": 6,
   "metadata": {},
   "outputs": [
    {
     "name": "stdout",
     "output_type": "stream",
     "text": [
      "Train dataset shape\n",
      "--------------------\n",
      "No of rows: 24630\n",
      "No of cols: 47\n",
      "\n",
      "Test dataset shape\n",
      "--------------------\n",
      "No of rows: 6158\n",
      "No of cols: 47\n",
      "--------------------\n"
     ]
    }
   ],
   "source": [
    "n_rows_train, n_cols_train = df_train.shape\n",
    "\n",
    "print(\"Train dataset shape\")\n",
    "print(20 * \"-\")\n",
    "print(f\"No of rows: {n_rows_train}\")\n",
    "print(f\"No of cols: {n_cols_train}\")\n",
    "\n",
    "print()\n",
    "\n",
    "n_rows_test, n_cols_test = df_test.shape\n",
    "\n",
    "print(\"Test dataset shape\")\n",
    "print(20 * \"-\")\n",
    "print(f\"No of rows: {n_rows_test}\")\n",
    "print(f\"No of cols: {n_cols_test}\")\n",
    "print(20 * \"-\")"
   ]
  },
  {
   "cell_type": "code",
   "execution_count": 7,
   "metadata": {},
   "outputs": [
    {
     "data": {
      "text/html": [
       "<div>\n",
       "<style scoped>\n",
       "    .dataframe tbody tr th:only-of-type {\n",
       "        vertical-align: middle;\n",
       "    }\n",
       "\n",
       "    .dataframe tbody tr th {\n",
       "        vertical-align: top;\n",
       "    }\n",
       "\n",
       "    .dataframe thead th {\n",
       "        text-align: right;\n",
       "    }\n",
       "</style>\n",
       "<table border=\"1\" class=\"dataframe\">\n",
       "  <thead>\n",
       "    <tr style=\"text-align: right;\">\n",
       "      <th></th>\n",
       "      <th>Missing Count</th>\n",
       "      <th>Missing [%]</th>\n",
       "    </tr>\n",
       "  </thead>\n",
       "  <tbody>\n",
       "    <tr>\n",
       "      <th>ai_range_on_full_battery_km</th>\n",
       "      <td>24514</td>\n",
       "      <td>99.529030</td>\n",
       "    </tr>\n",
       "    <tr>\n",
       "      <th>gi_battery_capacity</th>\n",
       "      <td>24490</td>\n",
       "      <td>99.431587</td>\n",
       "    </tr>\n",
       "    <tr>\n",
       "      <th>ai_interest_free_credit</th>\n",
       "      <td>24478</td>\n",
       "      <td>99.382866</td>\n",
       "    </tr>\n",
       "    <tr>\n",
       "      <th>ai_cash_payment</th>\n",
       "      <td>24360</td>\n",
       "      <td>98.903776</td>\n",
       "    </tr>\n",
       "    <tr>\n",
       "      <th>ai_deposit</th>\n",
       "      <td>24170</td>\n",
       "      <td>98.132359</td>\n",
       "    </tr>\n",
       "    <tr>\n",
       "      <th>ai_installment_amount</th>\n",
       "      <td>24064</td>\n",
       "      <td>97.701989</td>\n",
       "    </tr>\n",
       "    <tr>\n",
       "      <th>ai_installment_no</th>\n",
       "      <td>24047</td>\n",
       "      <td>97.632968</td>\n",
       "    </tr>\n",
       "    <tr>\n",
       "      <th>ai_leasing</th>\n",
       "      <td>23851</td>\n",
       "      <td>96.837190</td>\n",
       "    </tr>\n",
       "    <tr>\n",
       "      <th>gi_certified</th>\n",
       "      <td>23249</td>\n",
       "      <td>94.393017</td>\n",
       "    </tr>\n",
       "    <tr>\n",
       "      <th>ai_credit</th>\n",
       "      <td>22972</td>\n",
       "      <td>93.268372</td>\n",
       "    </tr>\n",
       "    <tr>\n",
       "      <th>ai_sales_method</th>\n",
       "      <td>22134</td>\n",
       "      <td>89.866017</td>\n",
       "    </tr>\n",
       "    <tr>\n",
       "      <th>ai_import_country</th>\n",
       "      <td>18432</td>\n",
       "      <td>74.835566</td>\n",
       "    </tr>\n",
       "    <tr>\n",
       "      <th>ai_floating_flywheel</th>\n",
       "      <td>16920</td>\n",
       "      <td>68.696711</td>\n",
       "    </tr>\n",
       "    <tr>\n",
       "      <th>ai_ownership</th>\n",
       "      <td>9867</td>\n",
       "      <td>40.060901</td>\n",
       "    </tr>\n",
       "    <tr>\n",
       "      <th>ai_interior_color</th>\n",
       "      <td>4238</td>\n",
       "      <td>17.206659</td>\n",
       "    </tr>\n",
       "    <tr>\n",
       "      <th>ai_interior_material</th>\n",
       "      <td>3337</td>\n",
       "      <td>13.548518</td>\n",
       "    </tr>\n",
       "    <tr>\n",
       "      <th>gi_engine_capacity</th>\n",
       "      <td>140</td>\n",
       "      <td>0.568413</td>\n",
       "    </tr>\n",
       "    <tr>\n",
       "      <th>ai_engine_emission_class</th>\n",
       "      <td>6</td>\n",
       "      <td>0.024361</td>\n",
       "    </tr>\n",
       "    <tr>\n",
       "      <th>ai_damage</th>\n",
       "      <td>3</td>\n",
       "      <td>0.012180</td>\n",
       "    </tr>\n",
       "    <tr>\n",
       "      <th>ai_registered_until</th>\n",
       "      <td>2</td>\n",
       "      <td>0.008120</td>\n",
       "    </tr>\n",
       "    <tr>\n",
       "      <th>ai_vehicle_origin</th>\n",
       "      <td>1</td>\n",
       "      <td>0.004060</td>\n",
       "    </tr>\n",
       "    <tr>\n",
       "      <th>ai_gearbox_type</th>\n",
       "      <td>1</td>\n",
       "      <td>0.004060</td>\n",
       "    </tr>\n",
       "    <tr>\n",
       "      <th>ai_doors_no</th>\n",
       "      <td>1</td>\n",
       "      <td>0.004060</td>\n",
       "    </tr>\n",
       "  </tbody>\n",
       "</table>\n",
       "</div>"
      ],
      "text/plain": [
       "                             Missing Count  Missing [%]\n",
       "ai_range_on_full_battery_km          24514    99.529030\n",
       "gi_battery_capacity                  24490    99.431587\n",
       "ai_interest_free_credit              24478    99.382866\n",
       "ai_cash_payment                      24360    98.903776\n",
       "ai_deposit                           24170    98.132359\n",
       "ai_installment_amount                24064    97.701989\n",
       "ai_installment_no                    24047    97.632968\n",
       "ai_leasing                           23851    96.837190\n",
       "gi_certified                         23249    94.393017\n",
       "ai_credit                            22972    93.268372\n",
       "ai_sales_method                      22134    89.866017\n",
       "ai_import_country                    18432    74.835566\n",
       "ai_floating_flywheel                 16920    68.696711\n",
       "ai_ownership                          9867    40.060901\n",
       "ai_interior_color                     4238    17.206659\n",
       "ai_interior_material                  3337    13.548518\n",
       "gi_engine_capacity                     140     0.568413\n",
       "ai_engine_emission_class                 6     0.024361\n",
       "ai_damage                                3     0.012180\n",
       "ai_registered_until                      2     0.008120\n",
       "ai_vehicle_origin                        1     0.004060\n",
       "ai_gearbox_type                          1     0.004060\n",
       "ai_doors_no                              1     0.004060"
      ]
     },
     "execution_count": 7,
     "metadata": {},
     "output_type": "execute_result"
    }
   ],
   "source": [
    "da_utils.get_nas(df_train)"
   ]
  },
  {
   "cell_type": "markdown",
   "metadata": {},
   "source": [
    "<h1> Univariate analysis"
   ]
  },
  {
   "cell_type": "code",
   "execution_count": 8,
   "metadata": {},
   "outputs": [
    {
     "data": {
      "text/markdown": [
       "<h3>'price' feature</h3>"
      ],
      "text/plain": [
       "<IPython.core.display.Markdown object>"
      ]
     },
     "metadata": {},
     "output_type": "display_data"
    },
    {
     "data": {
      "text/plain": [
       "id\n",
       "22699698    33.890 €\n",
       "23221633    12.998 €\n",
       "22569748    13.999 €\n",
       "22641862     8.399 €\n",
       "23220545     3.300 €\n",
       "Name: price, dtype: string"
      ]
     },
     "metadata": {},
     "output_type": "display_data"
    }
   ],
   "source": [
    "current_col = \"price\"\n",
    "da_utils.display_feature_name_heading(current_col)\n",
    "\n",
    "display(df_train[current_col].head())"
   ]
  },
  {
   "cell_type": "code",
   "execution_count": 9,
   "metadata": {
    "tags": [
     "refactor"
    ]
   },
   "outputs": [],
   "source": [
    "df_train[current_col] = pd.to_numeric(df_train.price.str.slice(stop=-1).str.replace(\".\", \"\"), errors=\"raise\")\n",
    "df_test[current_col] = pd.to_numeric(df_test.price.str.slice(stop=-1).str.replace(\".\", \"\"), errors=\"raise\")"
   ]
  },
  {
   "cell_type": "code",
   "execution_count": 10,
   "metadata": {},
   "outputs": [
    {
     "data": {
      "text/html": [
       "<div>\n",
       "<style scoped>\n",
       "    .dataframe tbody tr th:only-of-type {\n",
       "        vertical-align: middle;\n",
       "    }\n",
       "\n",
       "    .dataframe tbody tr th {\n",
       "        vertical-align: top;\n",
       "    }\n",
       "\n",
       "    .dataframe thead th {\n",
       "        text-align: right;\n",
       "    }\n",
       "</style>\n",
       "<table border=\"1\" class=\"dataframe\">\n",
       "  <thead>\n",
       "    <tr style=\"text-align: right;\">\n",
       "      <th></th>\n",
       "      <th>name</th>\n",
       "      <th>short_url</th>\n",
       "      <th>price</th>\n",
       "      <th>listing_followers_no</th>\n",
       "      <th>location</th>\n",
       "      <th>images_no</th>\n",
       "      <th>safety</th>\n",
       "      <th>equipment</th>\n",
       "      <th>other</th>\n",
       "      <th>description</th>\n",
       "      <th>...</th>\n",
       "      <th>ai_import_country</th>\n",
       "      <th>ai_sales_method</th>\n",
       "      <th>ai_credit</th>\n",
       "      <th>ai_deposit</th>\n",
       "      <th>ai_installment_no</th>\n",
       "      <th>ai_installment_amount</th>\n",
       "      <th>ai_interest_free_credit</th>\n",
       "      <th>ai_leasing</th>\n",
       "      <th>ai_cash_payment</th>\n",
       "      <th>ai_range_on_full_battery_km</th>\n",
       "    </tr>\n",
       "    <tr>\n",
       "      <th>id</th>\n",
       "      <th></th>\n",
       "      <th></th>\n",
       "      <th></th>\n",
       "      <th></th>\n",
       "      <th></th>\n",
       "      <th></th>\n",
       "      <th></th>\n",
       "      <th></th>\n",
       "      <th></th>\n",
       "      <th></th>\n",
       "      <th></th>\n",
       "      <th></th>\n",
       "      <th></th>\n",
       "      <th></th>\n",
       "      <th></th>\n",
       "      <th></th>\n",
       "      <th></th>\n",
       "      <th></th>\n",
       "      <th></th>\n",
       "      <th></th>\n",
       "      <th></th>\n",
       "    </tr>\n",
       "  </thead>\n",
       "  <tbody>\n",
       "    <tr>\n",
       "      <th>23220124</th>\n",
       "      <td>Audi A4 RATA 183e BEZ UCESCA</td>\n",
       "      <td>https://www.polovniautomobili.com/auto-oglasi/...</td>\n",
       "      <td>1</td>\n",
       "      <td>2</td>\n",
       "      <td>Beograd</td>\n",
       "      <td>39</td>\n",
       "      <td>Airbag za vozača,Airbag za suvozača,Bočni airb...</td>\n",
       "      <td>Servo volan,Daljinsko zaključavanje,Tonirana s...</td>\n",
       "      <td></td>\n",
       "      <td></td>\n",
       "      <td>...</td>\n",
       "      <td>&lt;NA&gt;</td>\n",
       "      <td>&lt;NA&gt;</td>\n",
       "      <td>DA</td>\n",
       "      <td>&lt;NA&gt;</td>\n",
       "      <td>&lt;NA&gt;</td>\n",
       "      <td>183 €</td>\n",
       "      <td>&lt;NA&gt;</td>\n",
       "      <td>&lt;NA&gt;</td>\n",
       "      <td>&lt;NA&gt;</td>\n",
       "      <td>&lt;NA&gt;</td>\n",
       "    </tr>\n",
       "    <tr>\n",
       "      <th>23221119</th>\n",
       "      <td>Opel Astra J RATA 148e BEZ UCESCA</td>\n",
       "      <td>https://www.polovniautomobili.com/auto-oglasi/...</td>\n",
       "      <td>1</td>\n",
       "      <td>1</td>\n",
       "      <td>Beograd</td>\n",
       "      <td>14</td>\n",
       "      <td>Airbag za vozača,Airbag za suvozača,Bočni airb...</td>\n",
       "      <td>Servo volan,Multifunkcionalni volan,Tempomat,D...</td>\n",
       "      <td></td>\n",
       "      <td>Vozilo u dolasku\n",
       "\n",
       "...............................</td>\n",
       "      <td>...</td>\n",
       "      <td>&lt;NA&gt;</td>\n",
       "      <td>&lt;NA&gt;</td>\n",
       "      <td>DA</td>\n",
       "      <td>&lt;NA&gt;</td>\n",
       "      <td>&lt;NA&gt;</td>\n",
       "      <td>148 €</td>\n",
       "      <td>&lt;NA&gt;</td>\n",
       "      <td>&lt;NA&gt;</td>\n",
       "      <td>&lt;NA&gt;</td>\n",
       "      <td>&lt;NA&gt;</td>\n",
       "    </tr>\n",
       "    <tr>\n",
       "      <th>23220566</th>\n",
       "      <td>Renault Scenic RATA 148e BEZ UCESCA</td>\n",
       "      <td>https://www.polovniautomobili.com/auto-oglasi/...</td>\n",
       "      <td>1</td>\n",
       "      <td></td>\n",
       "      <td>Beograd</td>\n",
       "      <td>28</td>\n",
       "      <td>Airbag za vozača,Airbag za suvozača,Bočni airb...</td>\n",
       "      <td>Servo volan,Multifunkcionalni volan,Tempomat,D...</td>\n",
       "      <td></td>\n",
       "      <td>VOZILO U DOLASKU\n",
       "\n",
       "...............................</td>\n",
       "      <td>...</td>\n",
       "      <td>&lt;NA&gt;</td>\n",
       "      <td>&lt;NA&gt;</td>\n",
       "      <td>DA</td>\n",
       "      <td>&lt;NA&gt;</td>\n",
       "      <td>&lt;NA&gt;</td>\n",
       "      <td>148 €</td>\n",
       "      <td>&lt;NA&gt;</td>\n",
       "      <td>&lt;NA&gt;</td>\n",
       "      <td>&lt;NA&gt;</td>\n",
       "      <td>&lt;NA&gt;</td>\n",
       "    </tr>\n",
       "    <tr>\n",
       "      <th>23230448</th>\n",
       "      <td>Peugeot 306</td>\n",
       "      <td>https://www.polovniautomobili.com/auto-oglasi/...</td>\n",
       "      <td>1</td>\n",
       "      <td>2</td>\n",
       "      <td>Landol</td>\n",
       "      <td>19</td>\n",
       "      <td>Airbag za vozača,Airbag za suvozača,ABS</td>\n",
       "      <td>Metalik boja,Servo volan,Tonirana stakla,Radio...</td>\n",
       "      <td>Garažiran</td>\n",
       "      <td></td>\n",
       "      <td>...</td>\n",
       "      <td>&lt;NA&gt;</td>\n",
       "      <td>&lt;NA&gt;</td>\n",
       "      <td>&lt;NA&gt;</td>\n",
       "      <td>&lt;NA&gt;</td>\n",
       "      <td>&lt;NA&gt;</td>\n",
       "      <td>&lt;NA&gt;</td>\n",
       "      <td>&lt;NA&gt;</td>\n",
       "      <td>&lt;NA&gt;</td>\n",
       "      <td>&lt;NA&gt;</td>\n",
       "      <td>&lt;NA&gt;</td>\n",
       "    </tr>\n",
       "  </tbody>\n",
       "</table>\n",
       "<p>4 rows × 47 columns</p>\n",
       "</div>"
      ],
      "text/plain": [
       "                                         name  \\\n",
       "id                                              \n",
       "23220124         Audi A4 RATA 183e BEZ UCESCA   \n",
       "23221119    Opel Astra J RATA 148e BEZ UCESCA   \n",
       "23220566  Renault Scenic RATA 148e BEZ UCESCA   \n",
       "23230448                          Peugeot 306   \n",
       "\n",
       "                                                  short_url  price  \\\n",
       "id                                                                   \n",
       "23220124  https://www.polovniautomobili.com/auto-oglasi/...      1   \n",
       "23221119  https://www.polovniautomobili.com/auto-oglasi/...      1   \n",
       "23220566  https://www.polovniautomobili.com/auto-oglasi/...      1   \n",
       "23230448  https://www.polovniautomobili.com/auto-oglasi/...      1   \n",
       "\n",
       "         listing_followers_no location images_no  \\\n",
       "id                                                 \n",
       "23220124                    2  Beograd        39   \n",
       "23221119                    1  Beograd        14   \n",
       "23220566                       Beograd        28   \n",
       "23230448                    2   Landol        19   \n",
       "\n",
       "                                                     safety  \\\n",
       "id                                                            \n",
       "23220124  Airbag za vozača,Airbag za suvozača,Bočni airb...   \n",
       "23221119  Airbag za vozača,Airbag za suvozača,Bočni airb...   \n",
       "23220566  Airbag za vozača,Airbag za suvozača,Bočni airb...   \n",
       "23230448            Airbag za vozača,Airbag za suvozača,ABS   \n",
       "\n",
       "                                                  equipment      other  \\\n",
       "id                                                                       \n",
       "23220124  Servo volan,Daljinsko zaključavanje,Tonirana s...              \n",
       "23221119  Servo volan,Multifunkcionalni volan,Tempomat,D...              \n",
       "23220566  Servo volan,Multifunkcionalni volan,Tempomat,D...              \n",
       "23230448  Metalik boja,Servo volan,Tonirana stakla,Radio...  Garažiran   \n",
       "\n",
       "                                                description  ...  \\\n",
       "id                                                           ...   \n",
       "23220124                                                     ...   \n",
       "23221119  Vozilo u dolasku\n",
       "\n",
       "...............................  ...   \n",
       "23220566  VOZILO U DOLASKU\n",
       "\n",
       "...............................  ...   \n",
       "23230448                                                     ...   \n",
       "\n",
       "         ai_import_country ai_sales_method ai_credit ai_deposit  \\\n",
       "id                                                                \n",
       "23220124              <NA>            <NA>        DA       <NA>   \n",
       "23221119              <NA>            <NA>        DA       <NA>   \n",
       "23220566              <NA>            <NA>        DA       <NA>   \n",
       "23230448              <NA>            <NA>      <NA>       <NA>   \n",
       "\n",
       "         ai_installment_no ai_installment_amount ai_interest_free_credit  \\\n",
       "id                                                                         \n",
       "23220124              <NA>                 183 €                    <NA>   \n",
       "23221119              <NA>                 148 €                    <NA>   \n",
       "23220566              <NA>                 148 €                    <NA>   \n",
       "23230448              <NA>                  <NA>                    <NA>   \n",
       "\n",
       "         ai_leasing ai_cash_payment ai_range_on_full_battery_km  \n",
       "id                                                               \n",
       "23220124       <NA>            <NA>                        <NA>  \n",
       "23221119       <NA>            <NA>                        <NA>  \n",
       "23220566       <NA>            <NA>                        <NA>  \n",
       "23230448       <NA>            <NA>                        <NA>  \n",
       "\n",
       "[4 rows x 47 columns]"
      ]
     },
     "execution_count": 10,
     "metadata": {},
     "output_type": "execute_result"
    }
   ],
   "source": [
    "df_train[df_train[current_col] == 1]"
   ]
  },
  {
   "cell_type": "markdown",
   "metadata": {},
   "source": [
    "These are cars that had value \"Po dogovoru\", so that means they didn't have a price to begin with and they will be dropped."
   ]
  },
  {
   "cell_type": "code",
   "execution_count": 11,
   "metadata": {
    "tags": [
     "refactor"
    ]
   },
   "outputs": [],
   "source": [
    "df_train = df_train[df_train[current_col] != 1]\n",
    "df_test = df_test[df_test[current_col] != 1]"
   ]
  },
  {
   "cell_type": "code",
   "execution_count": 12,
   "metadata": {},
   "outputs": [
    {
     "data": {
      "text/html": [
       "<div>\n",
       "<style scoped>\n",
       "    .dataframe tbody tr th:only-of-type {\n",
       "        vertical-align: middle;\n",
       "    }\n",
       "\n",
       "    .dataframe tbody tr th {\n",
       "        vertical-align: top;\n",
       "    }\n",
       "\n",
       "    .dataframe thead th {\n",
       "        text-align: right;\n",
       "    }\n",
       "</style>\n",
       "<table border=\"1\" class=\"dataframe\">\n",
       "  <thead>\n",
       "    <tr style=\"text-align: right;\">\n",
       "      <th></th>\n",
       "      <th>name</th>\n",
       "      <th>short_url</th>\n",
       "      <th>price</th>\n",
       "      <th>listing_followers_no</th>\n",
       "      <th>location</th>\n",
       "      <th>images_no</th>\n",
       "      <th>safety</th>\n",
       "      <th>equipment</th>\n",
       "      <th>other</th>\n",
       "      <th>description</th>\n",
       "      <th>...</th>\n",
       "      <th>ai_import_country</th>\n",
       "      <th>ai_sales_method</th>\n",
       "      <th>ai_credit</th>\n",
       "      <th>ai_deposit</th>\n",
       "      <th>ai_installment_no</th>\n",
       "      <th>ai_installment_amount</th>\n",
       "      <th>ai_interest_free_credit</th>\n",
       "      <th>ai_leasing</th>\n",
       "      <th>ai_cash_payment</th>\n",
       "      <th>ai_range_on_full_battery_km</th>\n",
       "    </tr>\n",
       "    <tr>\n",
       "      <th>id</th>\n",
       "      <th></th>\n",
       "      <th></th>\n",
       "      <th></th>\n",
       "      <th></th>\n",
       "      <th></th>\n",
       "      <th></th>\n",
       "      <th></th>\n",
       "      <th></th>\n",
       "      <th></th>\n",
       "      <th></th>\n",
       "      <th></th>\n",
       "      <th></th>\n",
       "      <th></th>\n",
       "      <th></th>\n",
       "      <th></th>\n",
       "      <th></th>\n",
       "      <th></th>\n",
       "      <th></th>\n",
       "      <th></th>\n",
       "      <th></th>\n",
       "      <th></th>\n",
       "    </tr>\n",
       "  </thead>\n",
       "  <tbody>\n",
       "  </tbody>\n",
       "</table>\n",
       "<p>0 rows × 47 columns</p>\n",
       "</div>"
      ],
      "text/plain": [
       "Empty DataFrame\n",
       "Columns: [name, short_url, price, listing_followers_no, location, images_no, safety, equipment, other, description, gi_condition, gi_brand, gi_model, gi_production_year, gi_kilometerage, gi_body_type, gi_fuel_type, gi_engine_capacity, gi_engine_power, gi_trade_in, gi_certified, gi_battery_capacity, ai_floating_flywheel, ai_engine_emission_class, ai_propulsion, ai_gearbox_type, ai_doors_no, ai_seats_no, ai_steering_wheel_side, ai_air_conditioning, ai_color, ai_interior_material, ai_interior_color, ai_registered_until, ai_vehicle_origin, ai_ownership, ai_damage, ai_import_country, ai_sales_method, ai_credit, ai_deposit, ai_installment_no, ai_installment_amount, ai_interest_free_credit, ai_leasing, ai_cash_payment, ai_range_on_full_battery_km]\n",
       "Index: []\n",
       "\n",
       "[0 rows x 47 columns]"
      ]
     },
     "execution_count": 12,
     "metadata": {},
     "output_type": "execute_result"
    }
   ],
   "source": [
    "df_train[df_train.price == \"Po dogovoru\"]"
   ]
  },
  {
   "cell_type": "code",
   "execution_count": 13,
   "metadata": {
    "tags": [
     "refactor"
    ]
   },
   "outputs": [
    {
     "data": {
      "text/plain": [
       "id\n",
       "22681873    83\n",
       "22675403    78\n",
       "22681890    95\n",
       "23225453    50\n",
       "Name: price, dtype: Int64"
      ]
     },
     "execution_count": 13,
     "metadata": {},
     "output_type": "execute_result"
    }
   ],
   "source": [
    "cars_price_less_than_100_train = df_train.loc[df_train[current_col] < 100, current_col]\n",
    "cars_price_less_than_100_test = df_test.loc[df_test[current_col] < 100, current_col]\n",
    "cars_price_less_than_100_train"
   ]
  },
  {
   "cell_type": "code",
   "execution_count": 14,
   "metadata": {},
   "outputs": [
    {
     "data": {
      "text/plain": [
       "['https://www.polovniautomobili.com/auto-oglasi/22681873/Ford Focus RATA 83e BEZ UČEŠĆA',\n",
       " 'https://www.polovniautomobili.com/auto-oglasi/22675403/Opel Meriva RATA 78e BEZ UCESCA',\n",
       " 'https://www.polovniautomobili.com/auto-oglasi/22681890/Opel Astra H RATA 99e BEZ UČEŠĆA',\n",
       " 'https://www.polovniautomobili.com/auto-oglasi/23225453/Zastava Yugo Tempo']"
      ]
     },
     "execution_count": 14,
     "metadata": {},
     "output_type": "execute_result"
    }
   ],
   "source": [
    "df_train.loc[cars_price_less_than_100_train.index, \"short_url\"].tolist()"
   ]
  },
  {
   "cell_type": "markdown",
   "metadata": {},
   "source": [
    "All of these cars are going to be deleted because they actually don't have value of price (their current value is the result of poor handling the case when price is set by an agreement)."
   ]
  },
  {
   "cell_type": "code",
   "execution_count": 15,
   "metadata": {
    "tags": [
     "refactor"
    ]
   },
   "outputs": [],
   "source": [
    "df_train.drop(cars_price_less_than_100_train.index, axis=0, inplace=True)\n",
    "df_test.drop(cars_price_less_than_100_test.index, axis=0, inplace=True)"
   ]
  },
  {
   "cell_type": "code",
   "execution_count": 16,
   "metadata": {},
   "outputs": [
    {
     "name": "stdout",
     "output_type": "stream",
     "text": [
      "Univariate analysis of 'price' column\n",
      "Histogram and box plot\n"
     ]
    },
    {
     "data": {
      "image/png": "[encoded data removed]",
      "text/plain": [
       "<Figure size 640x480 with 3 Axes>"
      ]
     },
     "metadata": {},
     "output_type": "display_data"
    },
    {
     "name": "stdout",
     "output_type": "stream",
     "text": [
      "Descriptive statistics\n"
     ]
    },
    {
     "data": {
      "text/plain": [
       "count         24622.0\n",
       "mean     11310.052392\n",
       "std      14666.085482\n",
       "min             104.0\n",
       "25%            3800.0\n",
       "50%            6900.0\n",
       "75%           13500.0\n",
       "max          360000.0\n",
       "Name: price, dtype: Float64"
      ]
     },
     "metadata": {},
     "output_type": "display_data"
    },
    {
     "name": "stdout",
     "output_type": "stream",
     "text": [
      "Variance: 1.2967301099439885\n",
      "Skewness: 5.739281624472869\n",
      "Kurtosis: 64.91036913440722\n",
      "\n",
      "NA values\n",
      "Count [n]: 0\n",
      "Percentage [%]: 0.0%\n"
     ]
    }
   ],
   "source": [
    "da_utils.show_hist_box_numerical_col(df_train, current_col)"
   ]
  },
  {
   "cell_type": "code",
   "execution_count": 17,
   "metadata": {},
   "outputs": [
    {
     "data": {
      "image/png": "[encoded data removed]",
      "text/plain": [
       "<Figure size 640x480 with 1 Axes>"
      ]
     },
     "metadata": {},
     "output_type": "display_data"
    }
   ],
   "source": [
    "df_train[current_col].apply(np.log1p).plot(kind=\"hist\", title=current_col);"
   ]
  },
  {
   "cell_type": "code",
   "execution_count": 18,
   "metadata": {},
   "outputs": [
    {
     "data": {
      "text/markdown": [
       "<h3>'listing_followers_no' feature</h3>"
      ],
      "text/plain": [
       "<IPython.core.display.Markdown object>"
      ]
     },
     "metadata": {},
     "output_type": "display_data"
    },
    {
     "data": {
      "text/plain": [
       "id\n",
       "22699698     3\n",
       "23221633     3\n",
       "22569748    18\n",
       "22641862    32\n",
       "23220545     2\n",
       "Name: listing_followers_no, dtype: string"
      ]
     },
     "metadata": {},
     "output_type": "display_data"
    }
   ],
   "source": [
    "current_col = \"listing_followers_no\"\n",
    "da_utils.display_feature_name_heading(current_col)\n",
    "\n",
    "display(df_train[current_col].head())"
   ]
  },
  {
   "cell_type": "code",
   "execution_count": 19,
   "metadata": {
    "tags": [
     "refactor"
    ]
   },
   "outputs": [],
   "source": [
    "if (df_train[current_col] == \"\").sum() == pd.to_numeric(df_train[current_col]).isna().sum():\n",
    "    df_train[current_col] = pd.to_numeric(df_train[current_col])\n",
    "else:\n",
    "    raise ValueError(\"There is a listing_followers_no value that is probably incorrectly parsed.\")\n",
    "\n",
    "if (df_test[current_col] == \"\").sum() == pd.to_numeric(df_test[current_col]).isna().sum():\n",
    "    df_test[current_col] = pd.to_numeric(df_test[current_col])\n",
    "else:\n",
    "    raise ValueError(\"There is a listing_followers_no value that is probably incorrectly parsed.\")"
   ]
  },
  {
   "cell_type": "code",
   "execution_count": 20,
   "metadata": {},
   "outputs": [
    {
     "name": "stdout",
     "output_type": "stream",
     "text": [
      "Univariate analysis of 'listing_followers_no' column\n",
      "Histogram and box plot\n"
     ]
    },
    {
     "data": {
      "image/png": "[encoded data removed]",
      "text/plain": [
       "<Figure size 640x480 with 3 Axes>"
      ]
     },
     "metadata": {},
     "output_type": "display_data"
    },
    {
     "name": "stdout",
     "output_type": "stream",
     "text": [
      "Descriptive statistics\n"
     ]
    },
    {
     "data": {
      "text/plain": [
       "count      22365.0\n",
       "mean     17.489425\n",
       "std       27.41364\n",
       "min            1.0\n",
       "25%            3.0\n",
       "50%            9.0\n",
       "75%           20.0\n",
       "max          621.0\n",
       "Name: listing_followers_no, dtype: Float64"
      ]
     },
     "metadata": {},
     "output_type": "display_data"
    },
    {
     "name": "stdout",
     "output_type": "stream",
     "text": [
      "Variance: 1.5674408328171134\n",
      "Skewness: 5.726671953980806\n",
      "Kurtosis: 61.87304657834173\n",
      "\n",
      "NA values\n",
      "Count [n]: 2257\n",
      "Percentage [%]: 9.166598976525059%\n"
     ]
    }
   ],
   "source": [
    "da_utils.show_hist_box_numerical_col(df_train, current_col)"
   ]
  },
  {
   "cell_type": "markdown",
   "metadata": {},
   "source": [
    "Missing values actually represents zero, so the imputation will be done accordingly."
   ]
  },
  {
   "cell_type": "code",
   "execution_count": 21,
   "metadata": {
    "tags": [
     "refactor"
    ]
   },
   "outputs": [
    {
     "name": "stderr",
     "output_type": "stream",
     "text": [
      "/tmp/ipykernel_20359/47715463.py:2: FutureWarning: A value is trying to be set on a copy of a DataFrame or Series through chained assignment using an inplace method.\n",
      "The behavior will change in pandas 3.0. This inplace method will never work because the intermediate object on which we are setting values always behaves as a copy.\n",
      "\n",
      "For example, when doing 'df[col].method(value, inplace=True)', try using 'df.method({col: value}, inplace=True)' or df[col] = df[col].method(value) instead, to perform the operation inplace on the original object.\n",
      "\n",
      "\n",
      "  df_test[current_col].fillna(value=0, inplace=True)\n"
     ]
    }
   ],
   "source": [
    "df_train[current_col].fillna(value=0, inplace=True)\n",
    "df_test[current_col].fillna(value=0, inplace=True)"
   ]
  },
  {
   "cell_type": "code",
   "execution_count": 22,
   "metadata": {},
   "outputs": [
    {
     "data": {
      "image/png": "[encoded data removed]",
      "text/plain": [
       "<Figure size 640x480 with 1 Axes>"
      ]
     },
     "metadata": {},
     "output_type": "display_data"
    }
   ],
   "source": [
    "df_train[current_col].apply(np.log1p).plot(kind=\"hist\", title=current_col);"
   ]
  },
  {
   "cell_type": "code",
   "execution_count": 23,
   "metadata": {
    "tags": [
     "refactor"
    ]
   },
   "outputs": [],
   "source": [
    "features_info[\"numerical\"].append(current_col)"
   ]
  },
  {
   "cell_type": "code",
   "execution_count": 24,
   "metadata": {},
   "outputs": [
    {
     "data": {
      "text/markdown": [
       "<h3>'location' feature</h3>"
      ],
      "text/plain": [
       "<IPython.core.display.Markdown object>"
      ]
     },
     "metadata": {},
     "output_type": "display_data"
    },
    {
     "data": {
      "text/plain": [
       "id\n",
       "22699698              Beograd\n",
       "23221633             Novi Sad\n",
       "22569748    Sremska Mitrovica\n",
       "22641862                Futog\n",
       "23220545         Novi Beograd\n",
       "Name: location, dtype: string"
      ]
     },
     "metadata": {},
     "output_type": "display_data"
    }
   ],
   "source": [
    "current_col = \"location\"\n",
    "da_utils.display_feature_name_heading(current_col)\n",
    "\n",
    "display(df_train[current_col].head())"
   ]
  },
  {
   "cell_type": "code",
   "execution_count": 25,
   "metadata": {},
   "outputs": [
    {
     "data": {
      "text/html": [
       "<div>\n",
       "<style scoped>\n",
       "    .dataframe tbody tr th:only-of-type {\n",
       "        vertical-align: middle;\n",
       "    }\n",
       "\n",
       "    .dataframe tbody tr th {\n",
       "        vertical-align: top;\n",
       "    }\n",
       "\n",
       "    .dataframe thead th {\n",
       "        text-align: right;\n",
       "    }\n",
       "</style>\n",
       "<table border=\"1\" class=\"dataframe\">\n",
       "  <thead>\n",
       "    <tr style=\"text-align: right;\">\n",
       "      <th></th>\n",
       "      <th>count</th>\n",
       "      <th>percentage [%]</th>\n",
       "    </tr>\n",
       "    <tr>\n",
       "      <th>location</th>\n",
       "      <th></th>\n",
       "      <th></th>\n",
       "    </tr>\n",
       "  </thead>\n",
       "  <tbody>\n",
       "    <tr>\n",
       "      <th>Beograd</th>\n",
       "      <td>4066</td>\n",
       "      <td>16.513687</td>\n",
       "    </tr>\n",
       "    <tr>\n",
       "      <th>Novi Sad</th>\n",
       "      <td>1808</td>\n",
       "      <td>7.343027</td>\n",
       "    </tr>\n",
       "    <tr>\n",
       "      <th>Niš</th>\n",
       "      <td>1045</td>\n",
       "      <td>4.244172</td>\n",
       "    </tr>\n",
       "    <tr>\n",
       "      <th>Kragujevac</th>\n",
       "      <td>905</td>\n",
       "      <td>3.675575</td>\n",
       "    </tr>\n",
       "    <tr>\n",
       "      <th>Čačak</th>\n",
       "      <td>783</td>\n",
       "      <td>3.180083</td>\n",
       "    </tr>\n",
       "    <tr>\n",
       "      <th>...</th>\n",
       "      <td>...</td>\n",
       "      <td>...</td>\n",
       "    </tr>\n",
       "    <tr>\n",
       "      <th>Drakčići</th>\n",
       "      <td>1</td>\n",
       "      <td>0.004061</td>\n",
       "    </tr>\n",
       "    <tr>\n",
       "      <th>Ledinci</th>\n",
       "      <td>1</td>\n",
       "      <td>0.004061</td>\n",
       "    </tr>\n",
       "    <tr>\n",
       "      <th>Deveti Maj</th>\n",
       "      <td>1</td>\n",
       "      <td>0.004061</td>\n",
       "    </tr>\n",
       "    <tr>\n",
       "      <th>SlovenijaBrežice</th>\n",
       "      <td>1</td>\n",
       "      <td>0.004061</td>\n",
       "    </tr>\n",
       "    <tr>\n",
       "      <th>Tabanović</th>\n",
       "      <td>1</td>\n",
       "      <td>0.004061</td>\n",
       "    </tr>\n",
       "  </tbody>\n",
       "</table>\n",
       "<p>772 rows × 2 columns</p>\n",
       "</div>"
      ],
      "text/plain": [
       "                  count  percentage [%]\n",
       "location                               \n",
       "Beograd            4066       16.513687\n",
       "Novi Sad           1808        7.343027\n",
       "Niš                1045        4.244172\n",
       "Kragujevac          905        3.675575\n",
       "Čačak               783        3.180083\n",
       "...                 ...             ...\n",
       "Drakčići              1        0.004061\n",
       "Ledinci               1        0.004061\n",
       "Deveti Maj            1        0.004061\n",
       "SlovenijaBrežice      1        0.004061\n",
       "Tabanović             1        0.004061\n",
       "\n",
       "[772 rows x 2 columns]"
      ]
     },
     "execution_count": 25,
     "metadata": {},
     "output_type": "execute_result"
    }
   ],
   "source": [
    "da_utils.get_value_counts_freq_with_perc(df_train, column=current_col)"
   ]
  },
  {
   "cell_type": "code",
   "execution_count": 26,
   "metadata": {
    "tags": [
     "refactor"
    ]
   },
   "outputs": [],
   "source": [
    "features_info[\"nominal\"].append(current_col)"
   ]
  },
  {
   "cell_type": "code",
   "execution_count": 27,
   "metadata": {},
   "outputs": [
    {
     "data": {
      "text/markdown": [
       "<h3>'images_no' feature</h3>"
      ],
      "text/plain": [
       "<IPython.core.display.Markdown object>"
      ]
     },
     "metadata": {},
     "output_type": "display_data"
    },
    {
     "data": {
      "text/plain": [
       "id\n",
       "22699698    15\n",
       "23221633    15\n",
       "22569748    20\n",
       "22641862    30\n",
       "23220545     6\n",
       "Name: images_no, dtype: string"
      ]
     },
     "metadata": {},
     "output_type": "display_data"
    }
   ],
   "source": [
    "current_col = \"images_no\"\n",
    "da_utils.display_feature_name_heading(current_col)\n",
    "\n",
    "display(df_train[current_col].head())"
   ]
  },
  {
   "cell_type": "code",
   "execution_count": 28,
   "metadata": {},
   "outputs": [
    {
     "data": {
      "text/plain": [
       "0"
      ]
     },
     "execution_count": 28,
     "metadata": {},
     "output_type": "execute_result"
    }
   ],
   "source": [
    "pd.to_numeric(df_train[current_col]).isna().sum()"
   ]
  },
  {
   "cell_type": "code",
   "execution_count": 29,
   "metadata": {
    "tags": [
     "refactor"
    ]
   },
   "outputs": [],
   "source": [
    "df_train[current_col] = pd.to_numeric(df_train[current_col])\n",
    "df_test[current_col] = pd.to_numeric(df_test[current_col])"
   ]
  },
  {
   "cell_type": "code",
   "execution_count": 30,
   "metadata": {},
   "outputs": [
    {
     "name": "stdout",
     "output_type": "stream",
     "text": [
      "Univariate analysis of 'images_no' column\n",
      "Histogram and box plot\n"
     ]
    },
    {
     "data": {
      "image/png": "[encoded data removed]",
      "text/plain": [
       "<Figure size 640x480 with 3 Axes>"
      ]
     },
     "metadata": {},
     "output_type": "display_data"
    },
    {
     "name": "stdout",
     "output_type": "stream",
     "text": [
      "Descriptive statistics\n"
     ]
    },
    {
     "data": {
      "text/plain": [
       "count      24622.0\n",
       "mean     20.391398\n",
       "std      10.248639\n",
       "min            1.0\n",
       "25%           13.0\n",
       "50%           19.0\n",
       "75%           27.0\n",
       "max           50.0\n",
       "Name: images_no, dtype: Float64"
      ]
     },
     "metadata": {},
     "output_type": "display_data"
    },
    {
     "name": "stdout",
     "output_type": "stream",
     "text": [
      "Variance: 0.5025962116400101\n",
      "Skewness: 0.8834781503340093\n",
      "Kurtosis: 0.6518418348517869\n",
      "\n",
      "NA values\n",
      "Count [n]: 0\n",
      "Percentage [%]: 0.0%\n"
     ]
    }
   ],
   "source": [
    "da_utils.show_hist_box_numerical_col(df_train, current_col)"
   ]
  },
  {
   "cell_type": "code",
   "execution_count": 31,
   "metadata": {
    "tags": [
     "refactor"
    ]
   },
   "outputs": [],
   "source": [
    "features_info[\"numerical\"].append(current_col)"
   ]
  },
  {
   "cell_type": "code",
   "execution_count": 32,
   "metadata": {},
   "outputs": [
    {
     "data": {
      "text/markdown": [
       "<h3>'safety' feature</h3>"
      ],
      "text/plain": [
       "<IPython.core.display.Markdown object>"
      ]
     },
     "metadata": {},
     "output_type": "display_data"
    },
    {
     "data": {
      "text/plain": [
       "id\n",
       "22699698    Airbag za vozača,Airbag za suvozača,Bočni airb...\n",
       "23221633    Airbag za vozača,Airbag za suvozača,Bočni airb...\n",
       "22569748    Airbag za vozača,Airbag za suvozača,Bočni airb...\n",
       "22641862    Airbag za vozača,Airbag za suvozača,Bočni airb...\n",
       "23220545    Airbag za vozača,Airbag za suvozača,Bočni airb...\n",
       "Name: safety, dtype: string"
      ]
     },
     "metadata": {},
     "output_type": "display_data"
    }
   ],
   "source": [
    "current_col = \"safety\"\n",
    "da_utils.display_feature_name_heading(current_col)\n",
    "\n",
    "display(df_train[current_col].head())"
   ]
  },
  {
   "cell_type": "code",
   "execution_count": 33,
   "metadata": {
    "tags": [
     "refactor"
    ]
   },
   "outputs": [],
   "source": [
    "df_train_safety_dummies = df_train[current_col].str.get_dummies(sep=\",\").add_prefix(\"s_\")\n",
    "df_test_safety_dummies = df_test[current_col].str.get_dummies(sep=\",\").add_prefix(\"s_\")\n",
    "\n",
    "safety_columns = df_train_safety_dummies.columns.tolist()\n",
    "\n",
    "df_train = pd.concat([df_train, df_train_safety_dummies], axis=1)\n",
    "df_test = pd.concat([df_test, df_test_safety_dummies], axis=1)\n",
    "\n",
    "del df_train_safety_dummies\n",
    "del df_test_safety_dummies\n",
    "\n",
    "del df_train[current_col]\n",
    "del df_test[current_col]"
   ]
  },
  {
   "cell_type": "code",
   "execution_count": 34,
   "metadata": {},
   "outputs": [
    {
     "data": {
      "text/html": [
       "<div>\n",
       "<style scoped>\n",
       "    .dataframe tbody tr th:only-of-type {\n",
       "        vertical-align: middle;\n",
       "    }\n",
       "\n",
       "    .dataframe tbody tr th {\n",
       "        vertical-align: top;\n",
       "    }\n",
       "\n",
       "    .dataframe thead th {\n",
       "        text-align: right;\n",
       "    }\n",
       "</style>\n",
       "<table border=\"1\" class=\"dataframe\">\n",
       "  <thead>\n",
       "    <tr style=\"text-align: right;\">\n",
       "      <th></th>\n",
       "      <th>count</th>\n",
       "      <th>percentage [%]</th>\n",
       "    </tr>\n",
       "    <tr>\n",
       "      <th>s_ABS</th>\n",
       "      <th></th>\n",
       "      <th></th>\n",
       "    </tr>\n",
       "  </thead>\n",
       "  <tbody>\n",
       "    <tr>\n",
       "      <th>1</th>\n",
       "      <td>22832</td>\n",
       "      <td>92.730079</td>\n",
       "    </tr>\n",
       "    <tr>\n",
       "      <th>0</th>\n",
       "      <td>1790</td>\n",
       "      <td>7.269921</td>\n",
       "    </tr>\n",
       "  </tbody>\n",
       "</table>\n",
       "</div>"
      ],
      "text/plain": [
       "       count  percentage [%]\n",
       "s_ABS                       \n",
       "1      22832       92.730079\n",
       "0       1790        7.269921"
      ]
     },
     "metadata": {},
     "output_type": "display_data"
    },
    {
     "data": {
      "text/html": [
       "<div>\n",
       "<style scoped>\n",
       "    .dataframe tbody tr th:only-of-type {\n",
       "        vertical-align: middle;\n",
       "    }\n",
       "\n",
       "    .dataframe tbody tr th {\n",
       "        vertical-align: top;\n",
       "    }\n",
       "\n",
       "    .dataframe thead th {\n",
       "        text-align: right;\n",
       "    }\n",
       "</style>\n",
       "<table border=\"1\" class=\"dataframe\">\n",
       "  <thead>\n",
       "    <tr style=\"text-align: right;\">\n",
       "      <th></th>\n",
       "      <th>count</th>\n",
       "      <th>percentage [%]</th>\n",
       "    </tr>\n",
       "    <tr>\n",
       "      <th>s_ASR</th>\n",
       "      <th></th>\n",
       "      <th></th>\n",
       "    </tr>\n",
       "  </thead>\n",
       "  <tbody>\n",
       "    <tr>\n",
       "      <th>1</th>\n",
       "      <td>17833</td>\n",
       "      <td>72.427098</td>\n",
       "    </tr>\n",
       "    <tr>\n",
       "      <th>0</th>\n",
       "      <td>6789</td>\n",
       "      <td>27.572902</td>\n",
       "    </tr>\n",
       "  </tbody>\n",
       "</table>\n",
       "</div>"
      ],
      "text/plain": [
       "       count  percentage [%]\n",
       "s_ASR                       \n",
       "1      17833       72.427098\n",
       "0       6789       27.572902"
      ]
     },
     "metadata": {},
     "output_type": "display_data"
    },
    {
     "data": {
      "text/html": [
       "<div>\n",
       "<style scoped>\n",
       "    .dataframe tbody tr th:only-of-type {\n",
       "        vertical-align: middle;\n",
       "    }\n",
       "\n",
       "    .dataframe tbody tr th {\n",
       "        vertical-align: top;\n",
       "    }\n",
       "\n",
       "    .dataframe thead th {\n",
       "        text-align: right;\n",
       "    }\n",
       "</style>\n",
       "<table border=\"1\" class=\"dataframe\">\n",
       "  <thead>\n",
       "    <tr style=\"text-align: right;\">\n",
       "      <th></th>\n",
       "      <th>count</th>\n",
       "      <th>percentage [%]</th>\n",
       "    </tr>\n",
       "    <tr>\n",
       "      <th>s_Airbag za suvozača</th>\n",
       "      <th></th>\n",
       "      <th></th>\n",
       "    </tr>\n",
       "  </thead>\n",
       "  <tbody>\n",
       "    <tr>\n",
       "      <th>1</th>\n",
       "      <td>22974</td>\n",
       "      <td>93.306799</td>\n",
       "    </tr>\n",
       "    <tr>\n",
       "      <th>0</th>\n",
       "      <td>1648</td>\n",
       "      <td>6.693201</td>\n",
       "    </tr>\n",
       "  </tbody>\n",
       "</table>\n",
       "</div>"
      ],
      "text/plain": [
       "                      count  percentage [%]\n",
       "s_Airbag za suvozača                       \n",
       "1                     22974       93.306799\n",
       "0                      1648        6.693201"
      ]
     },
     "metadata": {},
     "output_type": "display_data"
    },
    {
     "data": {
      "text/html": [
       "<div>\n",
       "<style scoped>\n",
       "    .dataframe tbody tr th:only-of-type {\n",
       "        vertical-align: middle;\n",
       "    }\n",
       "\n",
       "    .dataframe tbody tr th {\n",
       "        vertical-align: top;\n",
       "    }\n",
       "\n",
       "    .dataframe thead th {\n",
       "        text-align: right;\n",
       "    }\n",
       "</style>\n",
       "<table border=\"1\" class=\"dataframe\">\n",
       "  <thead>\n",
       "    <tr style=\"text-align: right;\">\n",
       "      <th></th>\n",
       "      <th>count</th>\n",
       "      <th>percentage [%]</th>\n",
       "    </tr>\n",
       "    <tr>\n",
       "      <th>s_Airbag za vozača</th>\n",
       "      <th></th>\n",
       "      <th></th>\n",
       "    </tr>\n",
       "  </thead>\n",
       "  <tbody>\n",
       "    <tr>\n",
       "      <th>1</th>\n",
       "      <td>23130</td>\n",
       "      <td>93.940379</td>\n",
       "    </tr>\n",
       "    <tr>\n",
       "      <th>0</th>\n",
       "      <td>1492</td>\n",
       "      <td>6.059621</td>\n",
       "    </tr>\n",
       "  </tbody>\n",
       "</table>\n",
       "</div>"
      ],
      "text/plain": [
       "                    count  percentage [%]\n",
       "s_Airbag za vozača                       \n",
       "1                   23130       93.940379\n",
       "0                    1492        6.059621"
      ]
     },
     "metadata": {},
     "output_type": "display_data"
    },
    {
     "data": {
      "text/html": [
       "<div>\n",
       "<style scoped>\n",
       "    .dataframe tbody tr th:only-of-type {\n",
       "        vertical-align: middle;\n",
       "    }\n",
       "\n",
       "    .dataframe tbody tr th {\n",
       "        vertical-align: top;\n",
       "    }\n",
       "\n",
       "    .dataframe thead th {\n",
       "        text-align: right;\n",
       "    }\n",
       "</style>\n",
       "<table border=\"1\" class=\"dataframe\">\n",
       "  <thead>\n",
       "    <tr style=\"text-align: right;\">\n",
       "      <th></th>\n",
       "      <th>count</th>\n",
       "      <th>percentage [%]</th>\n",
       "    </tr>\n",
       "    <tr>\n",
       "      <th>s_Alarm</th>\n",
       "      <th></th>\n",
       "      <th></th>\n",
       "    </tr>\n",
       "  </thead>\n",
       "  <tbody>\n",
       "    <tr>\n",
       "      <th>0</th>\n",
       "      <td>17866</td>\n",
       "      <td>72.561124</td>\n",
       "    </tr>\n",
       "    <tr>\n",
       "      <th>1</th>\n",
       "      <td>6756</td>\n",
       "      <td>27.438876</td>\n",
       "    </tr>\n",
       "  </tbody>\n",
       "</table>\n",
       "</div>"
      ],
      "text/plain": [
       "         count  percentage [%]\n",
       "s_Alarm                       \n",
       "0        17866       72.561124\n",
       "1         6756       27.438876"
      ]
     },
     "metadata": {},
     "output_type": "display_data"
    },
    {
     "data": {
      "text/html": [
       "<div>\n",
       "<style scoped>\n",
       "    .dataframe tbody tr th:only-of-type {\n",
       "        vertical-align: middle;\n",
       "    }\n",
       "\n",
       "    .dataframe tbody tr th {\n",
       "        vertical-align: top;\n",
       "    }\n",
       "\n",
       "    .dataframe thead th {\n",
       "        text-align: right;\n",
       "    }\n",
       "</style>\n",
       "<table border=\"1\" class=\"dataframe\">\n",
       "  <thead>\n",
       "    <tr style=\"text-align: right;\">\n",
       "      <th></th>\n",
       "      <th>count</th>\n",
       "      <th>percentage [%]</th>\n",
       "    </tr>\n",
       "    <tr>\n",
       "      <th>s_Asistencija praćenja trake</th>\n",
       "      <th></th>\n",
       "      <th></th>\n",
       "    </tr>\n",
       "  </thead>\n",
       "  <tbody>\n",
       "    <tr>\n",
       "      <th>0</th>\n",
       "      <td>20817</td>\n",
       "      <td>84.546341</td>\n",
       "    </tr>\n",
       "    <tr>\n",
       "      <th>1</th>\n",
       "      <td>3805</td>\n",
       "      <td>15.453659</td>\n",
       "    </tr>\n",
       "  </tbody>\n",
       "</table>\n",
       "</div>"
      ],
      "text/plain": [
       "                              count  percentage [%]\n",
       "s_Asistencija praćenja trake                       \n",
       "0                             20817       84.546341\n",
       "1                              3805       15.453659"
      ]
     },
     "metadata": {},
     "output_type": "display_data"
    },
    {
     "data": {
      "text/html": [
       "<div>\n",
       "<style scoped>\n",
       "    .dataframe tbody tr th:only-of-type {\n",
       "        vertical-align: middle;\n",
       "    }\n",
       "\n",
       "    .dataframe tbody tr th {\n",
       "        vertical-align: top;\n",
       "    }\n",
       "\n",
       "    .dataframe thead th {\n",
       "        text-align: right;\n",
       "    }\n",
       "</style>\n",
       "<table border=\"1\" class=\"dataframe\">\n",
       "  <thead>\n",
       "    <tr style=\"text-align: right;\">\n",
       "      <th></th>\n",
       "      <th>count</th>\n",
       "      <th>percentage [%]</th>\n",
       "    </tr>\n",
       "    <tr>\n",
       "      <th>s_Automatsko kočenje</th>\n",
       "      <th></th>\n",
       "      <th></th>\n",
       "    </tr>\n",
       "  </thead>\n",
       "  <tbody>\n",
       "    <tr>\n",
       "      <th>0</th>\n",
       "      <td>20709</td>\n",
       "      <td>84.107709</td>\n",
       "    </tr>\n",
       "    <tr>\n",
       "      <th>1</th>\n",
       "      <td>3913</td>\n",
       "      <td>15.892291</td>\n",
       "    </tr>\n",
       "  </tbody>\n",
       "</table>\n",
       "</div>"
      ],
      "text/plain": [
       "                      count  percentage [%]\n",
       "s_Automatsko kočenje                       \n",
       "0                     20709       84.107709\n",
       "1                      3913       15.892291"
      ]
     },
     "metadata": {},
     "output_type": "display_data"
    },
    {
     "data": {
      "text/html": [
       "<div>\n",
       "<style scoped>\n",
       "    .dataframe tbody tr th:only-of-type {\n",
       "        vertical-align: middle;\n",
       "    }\n",
       "\n",
       "    .dataframe tbody tr th {\n",
       "        vertical-align: top;\n",
       "    }\n",
       "\n",
       "    .dataframe thead th {\n",
       "        text-align: right;\n",
       "    }\n",
       "</style>\n",
       "<table border=\"1\" class=\"dataframe\">\n",
       "  <thead>\n",
       "    <tr style=\"text-align: right;\">\n",
       "      <th></th>\n",
       "      <th>count</th>\n",
       "      <th>percentage [%]</th>\n",
       "    </tr>\n",
       "    <tr>\n",
       "      <th>s_Blokada motora</th>\n",
       "      <th></th>\n",
       "      <th></th>\n",
       "    </tr>\n",
       "  </thead>\n",
       "  <tbody>\n",
       "    <tr>\n",
       "      <th>0</th>\n",
       "      <td>17793</td>\n",
       "      <td>72.264641</td>\n",
       "    </tr>\n",
       "    <tr>\n",
       "      <th>1</th>\n",
       "      <td>6829</td>\n",
       "      <td>27.735359</td>\n",
       "    </tr>\n",
       "  </tbody>\n",
       "</table>\n",
       "</div>"
      ],
      "text/plain": [
       "                  count  percentage [%]\n",
       "s_Blokada motora                       \n",
       "0                 17793       72.264641\n",
       "1                  6829       27.735359"
      ]
     },
     "metadata": {},
     "output_type": "display_data"
    },
    {
     "data": {
      "text/html": [
       "<div>\n",
       "<style scoped>\n",
       "    .dataframe tbody tr th:only-of-type {\n",
       "        vertical-align: middle;\n",
       "    }\n",
       "\n",
       "    .dataframe tbody tr th {\n",
       "        vertical-align: top;\n",
       "    }\n",
       "\n",
       "    .dataframe thead th {\n",
       "        text-align: right;\n",
       "    }\n",
       "</style>\n",
       "<table border=\"1\" class=\"dataframe\">\n",
       "  <thead>\n",
       "    <tr style=\"text-align: right;\">\n",
       "      <th></th>\n",
       "      <th>count</th>\n",
       "      <th>percentage [%]</th>\n",
       "    </tr>\n",
       "    <tr>\n",
       "      <th>s_Bočni airbag</th>\n",
       "      <th></th>\n",
       "      <th></th>\n",
       "    </tr>\n",
       "  </thead>\n",
       "  <tbody>\n",
       "    <tr>\n",
       "      <th>1</th>\n",
       "      <td>21351</td>\n",
       "      <td>86.715133</td>\n",
       "    </tr>\n",
       "    <tr>\n",
       "      <th>0</th>\n",
       "      <td>3271</td>\n",
       "      <td>13.284867</td>\n",
       "    </tr>\n",
       "  </tbody>\n",
       "</table>\n",
       "</div>"
      ],
      "text/plain": [
       "                count  percentage [%]\n",
       "s_Bočni airbag                       \n",
       "1               21351       86.715133\n",
       "0                3271       13.284867"
      ]
     },
     "metadata": {},
     "output_type": "display_data"
    },
    {
     "data": {
      "text/html": [
       "<div>\n",
       "<style scoped>\n",
       "    .dataframe tbody tr th:only-of-type {\n",
       "        vertical-align: middle;\n",
       "    }\n",
       "\n",
       "    .dataframe tbody tr th {\n",
       "        vertical-align: top;\n",
       "    }\n",
       "\n",
       "    .dataframe thead th {\n",
       "        text-align: right;\n",
       "    }\n",
       "</style>\n",
       "<table border=\"1\" class=\"dataframe\">\n",
       "  <thead>\n",
       "    <tr style=\"text-align: right;\">\n",
       "      <th></th>\n",
       "      <th>count</th>\n",
       "      <th>percentage [%]</th>\n",
       "    </tr>\n",
       "    <tr>\n",
       "      <th>s_Centralno zaključavanje</th>\n",
       "      <th></th>\n",
       "      <th></th>\n",
       "    </tr>\n",
       "  </thead>\n",
       "  <tbody>\n",
       "    <tr>\n",
       "      <th>1</th>\n",
       "      <td>22606</td>\n",
       "      <td>91.8122</td>\n",
       "    </tr>\n",
       "    <tr>\n",
       "      <th>0</th>\n",
       "      <td>2016</td>\n",
       "      <td>8.1878</td>\n",
       "    </tr>\n",
       "  </tbody>\n",
       "</table>\n",
       "</div>"
      ],
      "text/plain": [
       "                           count  percentage [%]\n",
       "s_Centralno zaključavanje                       \n",
       "1                          22606         91.8122\n",
       "0                           2016          8.1878"
      ]
     },
     "metadata": {},
     "output_type": "display_data"
    },
    {
     "data": {
      "text/html": [
       "<div>\n",
       "<style scoped>\n",
       "    .dataframe tbody tr th:only-of-type {\n",
       "        vertical-align: middle;\n",
       "    }\n",
       "\n",
       "    .dataframe tbody tr th {\n",
       "        vertical-align: top;\n",
       "    }\n",
       "\n",
       "    .dataframe thead th {\n",
       "        text-align: right;\n",
       "    }\n",
       "</style>\n",
       "<table border=\"1\" class=\"dataframe\">\n",
       "  <thead>\n",
       "    <tr style=\"text-align: right;\">\n",
       "      <th></th>\n",
       "      <th>count</th>\n",
       "      <th>percentage [%]</th>\n",
       "    </tr>\n",
       "    <tr>\n",
       "      <th>s_Child lock</th>\n",
       "      <th></th>\n",
       "      <th></th>\n",
       "    </tr>\n",
       "  </thead>\n",
       "  <tbody>\n",
       "    <tr>\n",
       "      <th>1</th>\n",
       "      <td>13857</td>\n",
       "      <td>56.278938</td>\n",
       "    </tr>\n",
       "    <tr>\n",
       "      <th>0</th>\n",
       "      <td>10765</td>\n",
       "      <td>43.721062</td>\n",
       "    </tr>\n",
       "  </tbody>\n",
       "</table>\n",
       "</div>"
      ],
      "text/plain": [
       "              count  percentage [%]\n",
       "s_Child lock                       \n",
       "1             13857       56.278938\n",
       "0             10765       43.721062"
      ]
     },
     "metadata": {},
     "output_type": "display_data"
    },
    {
     "data": {
      "text/html": [
       "<div>\n",
       "<style scoped>\n",
       "    .dataframe tbody tr th:only-of-type {\n",
       "        vertical-align: middle;\n",
       "    }\n",
       "\n",
       "    .dataframe tbody tr th {\n",
       "        vertical-align: top;\n",
       "    }\n",
       "\n",
       "    .dataframe thead th {\n",
       "        text-align: right;\n",
       "    }\n",
       "</style>\n",
       "<table border=\"1\" class=\"dataframe\">\n",
       "  <thead>\n",
       "    <tr style=\"text-align: right;\">\n",
       "      <th></th>\n",
       "      <th>count</th>\n",
       "      <th>percentage [%]</th>\n",
       "    </tr>\n",
       "    <tr>\n",
       "      <th>s_ESP</th>\n",
       "      <th></th>\n",
       "      <th></th>\n",
       "    </tr>\n",
       "  </thead>\n",
       "  <tbody>\n",
       "    <tr>\n",
       "      <th>1</th>\n",
       "      <td>18911</td>\n",
       "      <td>76.805296</td>\n",
       "    </tr>\n",
       "    <tr>\n",
       "      <th>0</th>\n",
       "      <td>5711</td>\n",
       "      <td>23.194704</td>\n",
       "    </tr>\n",
       "  </tbody>\n",
       "</table>\n",
       "</div>"
      ],
      "text/plain": [
       "       count  percentage [%]\n",
       "s_ESP                       \n",
       "1      18911       76.805296\n",
       "0       5711       23.194704"
      ]
     },
     "metadata": {},
     "output_type": "display_data"
    },
    {
     "data": {
      "text/html": [
       "<div>\n",
       "<style scoped>\n",
       "    .dataframe tbody tr th:only-of-type {\n",
       "        vertical-align: middle;\n",
       "    }\n",
       "\n",
       "    .dataframe tbody tr th {\n",
       "        vertical-align: top;\n",
       "    }\n",
       "\n",
       "    .dataframe thead th {\n",
       "        text-align: right;\n",
       "    }\n",
       "</style>\n",
       "<table border=\"1\" class=\"dataframe\">\n",
       "  <thead>\n",
       "    <tr style=\"text-align: right;\">\n",
       "      <th></th>\n",
       "      <th>count</th>\n",
       "      <th>percentage [%]</th>\n",
       "    </tr>\n",
       "    <tr>\n",
       "      <th>s_Kodiran ključ</th>\n",
       "      <th></th>\n",
       "      <th></th>\n",
       "    </tr>\n",
       "  </thead>\n",
       "  <tbody>\n",
       "    <tr>\n",
       "      <th>1</th>\n",
       "      <td>15707</td>\n",
       "      <td>63.792543</td>\n",
       "    </tr>\n",
       "    <tr>\n",
       "      <th>0</th>\n",
       "      <td>8915</td>\n",
       "      <td>36.207457</td>\n",
       "    </tr>\n",
       "  </tbody>\n",
       "</table>\n",
       "</div>"
      ],
      "text/plain": [
       "                 count  percentage [%]\n",
       "s_Kodiran ključ                       \n",
       "1                15707       63.792543\n",
       "0                 8915       36.207457"
      ]
     },
     "metadata": {},
     "output_type": "display_data"
    },
    {
     "data": {
      "text/html": [
       "<div>\n",
       "<style scoped>\n",
       "    .dataframe tbody tr th:only-of-type {\n",
       "        vertical-align: middle;\n",
       "    }\n",
       "\n",
       "    .dataframe tbody tr th {\n",
       "        vertical-align: top;\n",
       "    }\n",
       "\n",
       "    .dataframe thead th {\n",
       "        text-align: right;\n",
       "    }\n",
       "</style>\n",
       "<table border=\"1\" class=\"dataframe\">\n",
       "  <thead>\n",
       "    <tr style=\"text-align: right;\">\n",
       "      <th></th>\n",
       "      <th>count</th>\n",
       "      <th>percentage [%]</th>\n",
       "    </tr>\n",
       "    <tr>\n",
       "      <th>s_Mehanička zaštita</th>\n",
       "      <th></th>\n",
       "      <th></th>\n",
       "    </tr>\n",
       "  </thead>\n",
       "  <tbody>\n",
       "    <tr>\n",
       "      <th>0</th>\n",
       "      <td>23154</td>\n",
       "      <td>94.037852</td>\n",
       "    </tr>\n",
       "    <tr>\n",
       "      <th>1</th>\n",
       "      <td>1468</td>\n",
       "      <td>5.962148</td>\n",
       "    </tr>\n",
       "  </tbody>\n",
       "</table>\n",
       "</div>"
      ],
      "text/plain": [
       "                     count  percentage [%]\n",
       "s_Mehanička zaštita                       \n",
       "0                    23154       94.037852\n",
       "1                     1468        5.962148"
      ]
     },
     "metadata": {},
     "output_type": "display_data"
    },
    {
     "data": {
      "text/html": [
       "<div>\n",
       "<style scoped>\n",
       "    .dataframe tbody tr th:only-of-type {\n",
       "        vertical-align: middle;\n",
       "    }\n",
       "\n",
       "    .dataframe tbody tr th {\n",
       "        vertical-align: top;\n",
       "    }\n",
       "\n",
       "    .dataframe thead th {\n",
       "        text-align: right;\n",
       "    }\n",
       "</style>\n",
       "<table border=\"1\" class=\"dataframe\">\n",
       "  <thead>\n",
       "    <tr style=\"text-align: right;\">\n",
       "      <th></th>\n",
       "      <th>count</th>\n",
       "      <th>percentage [%]</th>\n",
       "    </tr>\n",
       "    <tr>\n",
       "      <th>s_OBD zaštita</th>\n",
       "      <th></th>\n",
       "      <th></th>\n",
       "    </tr>\n",
       "  </thead>\n",
       "  <tbody>\n",
       "    <tr>\n",
       "      <th>0</th>\n",
       "      <td>19988</td>\n",
       "      <td>81.179433</td>\n",
       "    </tr>\n",
       "    <tr>\n",
       "      <th>1</th>\n",
       "      <td>4634</td>\n",
       "      <td>18.820567</td>\n",
       "    </tr>\n",
       "  </tbody>\n",
       "</table>\n",
       "</div>"
      ],
      "text/plain": [
       "               count  percentage [%]\n",
       "s_OBD zaštita                       \n",
       "0              19988       81.179433\n",
       "1               4634       18.820567"
      ]
     },
     "metadata": {},
     "output_type": "display_data"
    },
    {
     "data": {
      "text/html": [
       "<div>\n",
       "<style scoped>\n",
       "    .dataframe tbody tr th:only-of-type {\n",
       "        vertical-align: middle;\n",
       "    }\n",
       "\n",
       "    .dataframe tbody tr th {\n",
       "        vertical-align: top;\n",
       "    }\n",
       "\n",
       "    .dataframe thead th {\n",
       "        text-align: right;\n",
       "    }\n",
       "</style>\n",
       "<table border=\"1\" class=\"dataframe\">\n",
       "  <thead>\n",
       "    <tr style=\"text-align: right;\">\n",
       "      <th></th>\n",
       "      <th>count</th>\n",
       "      <th>percentage [%]</th>\n",
       "    </tr>\n",
       "    <tr>\n",
       "      <th>s_Senzor mrtvog ugla</th>\n",
       "      <th></th>\n",
       "      <th></th>\n",
       "    </tr>\n",
       "  </thead>\n",
       "  <tbody>\n",
       "    <tr>\n",
       "      <th>0</th>\n",
       "      <td>22407</td>\n",
       "      <td>91.00398</td>\n",
       "    </tr>\n",
       "    <tr>\n",
       "      <th>1</th>\n",
       "      <td>2215</td>\n",
       "      <td>8.99602</td>\n",
       "    </tr>\n",
       "  </tbody>\n",
       "</table>\n",
       "</div>"
      ],
      "text/plain": [
       "                      count  percentage [%]\n",
       "s_Senzor mrtvog ugla                       \n",
       "0                     22407        91.00398\n",
       "1                      2215         8.99602"
      ]
     },
     "metadata": {},
     "output_type": "display_data"
    },
    {
     "data": {
      "text/html": [
       "<div>\n",
       "<style scoped>\n",
       "    .dataframe tbody tr th:only-of-type {\n",
       "        vertical-align: middle;\n",
       "    }\n",
       "\n",
       "    .dataframe tbody tr th {\n",
       "        vertical-align: top;\n",
       "    }\n",
       "\n",
       "    .dataframe thead th {\n",
       "        text-align: right;\n",
       "    }\n",
       "</style>\n",
       "<table border=\"1\" class=\"dataframe\">\n",
       "  <thead>\n",
       "    <tr style=\"text-align: right;\">\n",
       "      <th></th>\n",
       "      <th>count</th>\n",
       "      <th>percentage [%]</th>\n",
       "    </tr>\n",
       "    <tr>\n",
       "      <th>s_Ulazak bez ključa</th>\n",
       "      <th></th>\n",
       "      <th></th>\n",
       "    </tr>\n",
       "  </thead>\n",
       "  <tbody>\n",
       "    <tr>\n",
       "      <th>0</th>\n",
       "      <td>20496</td>\n",
       "      <td>83.242629</td>\n",
       "    </tr>\n",
       "    <tr>\n",
       "      <th>1</th>\n",
       "      <td>4126</td>\n",
       "      <td>16.757371</td>\n",
       "    </tr>\n",
       "  </tbody>\n",
       "</table>\n",
       "</div>"
      ],
      "text/plain": [
       "                     count  percentage [%]\n",
       "s_Ulazak bez ključa                       \n",
       "0                    20496       83.242629\n",
       "1                     4126       16.757371"
      ]
     },
     "metadata": {},
     "output_type": "display_data"
    },
    {
     "data": {
      "text/html": [
       "<div>\n",
       "<style scoped>\n",
       "    .dataframe tbody tr th:only-of-type {\n",
       "        vertical-align: middle;\n",
       "    }\n",
       "\n",
       "    .dataframe tbody tr th {\n",
       "        vertical-align: top;\n",
       "    }\n",
       "\n",
       "    .dataframe thead th {\n",
       "        text-align: right;\n",
       "    }\n",
       "</style>\n",
       "<table border=\"1\" class=\"dataframe\">\n",
       "  <thead>\n",
       "    <tr style=\"text-align: right;\">\n",
       "      <th></th>\n",
       "      <th>count</th>\n",
       "      <th>percentage [%]</th>\n",
       "    </tr>\n",
       "    <tr>\n",
       "      <th>s_Vazdušni jastuci za kolena</th>\n",
       "      <th></th>\n",
       "      <th></th>\n",
       "    </tr>\n",
       "  </thead>\n",
       "  <tbody>\n",
       "    <tr>\n",
       "      <th>0</th>\n",
       "      <td>19442</td>\n",
       "      <td>78.961904</td>\n",
       "    </tr>\n",
       "    <tr>\n",
       "      <th>1</th>\n",
       "      <td>5180</td>\n",
       "      <td>21.038096</td>\n",
       "    </tr>\n",
       "  </tbody>\n",
       "</table>\n",
       "</div>"
      ],
      "text/plain": [
       "                              count  percentage [%]\n",
       "s_Vazdušni jastuci za kolena                       \n",
       "0                             19442       78.961904\n",
       "1                              5180       21.038096"
      ]
     },
     "metadata": {},
     "output_type": "display_data"
    }
   ],
   "source": [
    "for col in safety_columns:\n",
    "    display(da_utils.get_value_counts_freq_with_perc(df_train, col))"
   ]
  },
  {
   "cell_type": "code",
   "execution_count": 35,
   "metadata": {
    "tags": [
     "refactor"
    ]
   },
   "outputs": [],
   "source": [
    "features_info[\"binary\"].append(safety_columns)"
   ]
  }
 ],
 "metadata": {
  "kernelspec": {
   "display_name": "Python 3",
   "language": "python",
   "name": "python3"
  },
  "language_info": {
   "codemirror_mode": {
    "name": "ipython",
    "version": 3
   },
   "file_extension": ".py",
   "mimetype": "text/x-python",
   "name": "python",
   "nbconvert_exporter": "python",
   "pygments_lexer": "ipython3",
   "version": "3.10.12"
  }
 },
 "nbformat": 4,
 "nbformat_minor": 2
}
